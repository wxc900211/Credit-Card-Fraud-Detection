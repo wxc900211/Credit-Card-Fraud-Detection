{
 "cells": [
  {
   "cell_type": "code",
   "execution_count": 2,
   "metadata": {
    "_cell_guid": "79f93f79-5721-4372-9d55-08a748106bde",
    "_uuid": "ec22d290-ab18-49e2-86f7-dd63ae53ca2f",
    "execution": {
     "iopub.execute_input": "2023-10-17T06:12:26.028158Z",
     "iopub.status.busy": "2023-10-17T06:12:26.027714Z",
     "iopub.status.idle": "2023-10-17T06:12:27.943927Z",
     "shell.execute_reply": "2023-10-17T06:12:27.942750Z",
     "shell.execute_reply.started": "2023-10-17T06:12:26.028124Z"
    },
    "jupyter": {
     "outputs_hidden": false
    }
   },
   "outputs": [],
   "source": [
    "import numpy as np \n",
    "import pandas as pd \n",
    "from sklearn.preprocessing  import MinMaxScaler\n",
    "from sklearn.decomposition import PCA\n",
    "import matplotlib.pyplot as plt\n",
    "import seaborn as sns\n",
    "from sklearn.model_selection import GridSearchCV,train_test_split\n",
    "from sklearn import svm , metrics"
   ]
  },
  {
   "cell_type": "code",
   "execution_count": 28,
   "metadata": {},
   "outputs": [],
   "source": [
    "from sklearn.linear_model import LogisticRegression\n",
    "from sklearn.tree import DecisionTreeClassifier\n",
    "from sklearn.neighbors import KNeighborsClassifier\n",
    "from sklearn.svm import LinearSVC\n",
    "from sklearn.naive_bayes import GaussianNB\n",
    "from xgboost import XGBClassifier\n",
    "from sklearn.ensemble import RandomForestClassifier\n",
    "from sklearn.ensemble import AdaBoostClassifier\n",
    "from sklearn.ensemble import GradientBoostingClassifier\n",
    "from sklearn.metrics import mean_absolute_error ,mean_squared_error, median_absolute_error,confusion_matrix,accuracy_score,f1_score,ConfusionMatrixDisplay"
   ]
  },
  {
   "cell_type": "markdown",
   "metadata": {
    "_cell_guid": "3319de2b-518c-490f-9165-93121f61fb4d",
    "_uuid": "6662c814-c2fb-4feb-a8ba-0a875b039f7b"
   },
   "source": [
    "## Reading Data"
   ]
  },
  {
   "cell_type": "code",
   "execution_count": 5,
   "metadata": {
    "_cell_guid": "fcbde2f2-b487-4dae-a34d-b7fa6ccc55ef",
    "_uuid": "acd284b4-6caf-435e-b7d7-b848cef9c224",
    "execution": {
     "iopub.execute_input": "2023-10-17T06:12:11.552476Z",
     "iopub.status.busy": "2023-10-17T06:12:11.552127Z",
     "iopub.status.idle": "2023-10-17T06:12:11.881141Z",
     "shell.execute_reply": "2023-10-17T06:12:11.879451Z",
     "shell.execute_reply.started": "2023-10-17T06:12:11.552448Z"
    },
    "jupyter": {
     "outputs_hidden": false
    }
   },
   "outputs": [
    {
     "name": "stdout",
     "output_type": "stream",
     "text": [
      "shape of the data:  (568630, 31)\n"
     ]
    }
   ],
   "source": [
    "creditCard_data = pd.read_csv(\"/Users/wei/Kaggle/Credit Card Fraud Detection/creditcard_2023.csv\")\n",
    "print(\"shape of the data: \",creditCard_data.shape)"
   ]
  },
  {
   "cell_type": "code",
   "execution_count": 6,
   "metadata": {
    "_cell_guid": "774047a0-f9e5-406e-adec-b467fa6d254a",
    "_uuid": "5e167d0c-fa28-44fc-a805-61330508b5b9",
    "execution": {
     "iopub.execute_input": "2023-09-21T19:34:02.08417Z",
     "iopub.status.busy": "2023-09-21T19:34:02.08366Z",
     "iopub.status.idle": "2023-09-21T19:34:02.130827Z",
     "shell.execute_reply": "2023-09-21T19:34:02.129842Z",
     "shell.execute_reply.started": "2023-09-21T19:34:02.084135Z"
    },
    "jupyter": {
     "outputs_hidden": false
    }
   },
   "outputs": [
    {
     "data": {
      "text/html": [
       "<div>\n",
       "<style scoped>\n",
       "    .dataframe tbody tr th:only-of-type {\n",
       "        vertical-align: middle;\n",
       "    }\n",
       "\n",
       "    .dataframe tbody tr th {\n",
       "        vertical-align: top;\n",
       "    }\n",
       "\n",
       "    .dataframe thead th {\n",
       "        text-align: right;\n",
       "    }\n",
       "</style>\n",
       "<table border=\"1\" class=\"dataframe\">\n",
       "  <thead>\n",
       "    <tr style=\"text-align: right;\">\n",
       "      <th></th>\n",
       "      <th>id</th>\n",
       "      <th>V1</th>\n",
       "      <th>V2</th>\n",
       "      <th>V3</th>\n",
       "      <th>V4</th>\n",
       "      <th>V5</th>\n",
       "      <th>V6</th>\n",
       "      <th>V7</th>\n",
       "      <th>V8</th>\n",
       "      <th>V9</th>\n",
       "      <th>...</th>\n",
       "      <th>V21</th>\n",
       "      <th>V22</th>\n",
       "      <th>V23</th>\n",
       "      <th>V24</th>\n",
       "      <th>V25</th>\n",
       "      <th>V26</th>\n",
       "      <th>V27</th>\n",
       "      <th>V28</th>\n",
       "      <th>Amount</th>\n",
       "      <th>Class</th>\n",
       "    </tr>\n",
       "  </thead>\n",
       "  <tbody>\n",
       "    <tr>\n",
       "      <th>0</th>\n",
       "      <td>0</td>\n",
       "      <td>-0.260648</td>\n",
       "      <td>-0.469648</td>\n",
       "      <td>2.496266</td>\n",
       "      <td>-0.083724</td>\n",
       "      <td>0.129681</td>\n",
       "      <td>0.732898</td>\n",
       "      <td>0.519014</td>\n",
       "      <td>-0.130006</td>\n",
       "      <td>0.727159</td>\n",
       "      <td>...</td>\n",
       "      <td>-0.110552</td>\n",
       "      <td>0.217606</td>\n",
       "      <td>-0.134794</td>\n",
       "      <td>0.165959</td>\n",
       "      <td>0.126280</td>\n",
       "      <td>-0.434824</td>\n",
       "      <td>-0.081230</td>\n",
       "      <td>-0.151045</td>\n",
       "      <td>17982.10</td>\n",
       "      <td>0</td>\n",
       "    </tr>\n",
       "    <tr>\n",
       "      <th>1</th>\n",
       "      <td>1</td>\n",
       "      <td>0.985100</td>\n",
       "      <td>-0.356045</td>\n",
       "      <td>0.558056</td>\n",
       "      <td>-0.429654</td>\n",
       "      <td>0.277140</td>\n",
       "      <td>0.428605</td>\n",
       "      <td>0.406466</td>\n",
       "      <td>-0.133118</td>\n",
       "      <td>0.347452</td>\n",
       "      <td>...</td>\n",
       "      <td>-0.194936</td>\n",
       "      <td>-0.605761</td>\n",
       "      <td>0.079469</td>\n",
       "      <td>-0.577395</td>\n",
       "      <td>0.190090</td>\n",
       "      <td>0.296503</td>\n",
       "      <td>-0.248052</td>\n",
       "      <td>-0.064512</td>\n",
       "      <td>6531.37</td>\n",
       "      <td>0</td>\n",
       "    </tr>\n",
       "    <tr>\n",
       "      <th>2</th>\n",
       "      <td>2</td>\n",
       "      <td>-0.260272</td>\n",
       "      <td>-0.949385</td>\n",
       "      <td>1.728538</td>\n",
       "      <td>-0.457986</td>\n",
       "      <td>0.074062</td>\n",
       "      <td>1.419481</td>\n",
       "      <td>0.743511</td>\n",
       "      <td>-0.095576</td>\n",
       "      <td>-0.261297</td>\n",
       "      <td>...</td>\n",
       "      <td>-0.005020</td>\n",
       "      <td>0.702906</td>\n",
       "      <td>0.945045</td>\n",
       "      <td>-1.154666</td>\n",
       "      <td>-0.605564</td>\n",
       "      <td>-0.312895</td>\n",
       "      <td>-0.300258</td>\n",
       "      <td>-0.244718</td>\n",
       "      <td>2513.54</td>\n",
       "      <td>0</td>\n",
       "    </tr>\n",
       "    <tr>\n",
       "      <th>3</th>\n",
       "      <td>3</td>\n",
       "      <td>-0.152152</td>\n",
       "      <td>-0.508959</td>\n",
       "      <td>1.746840</td>\n",
       "      <td>-1.090178</td>\n",
       "      <td>0.249486</td>\n",
       "      <td>1.143312</td>\n",
       "      <td>0.518269</td>\n",
       "      <td>-0.065130</td>\n",
       "      <td>-0.205698</td>\n",
       "      <td>...</td>\n",
       "      <td>-0.146927</td>\n",
       "      <td>-0.038212</td>\n",
       "      <td>-0.214048</td>\n",
       "      <td>-1.893131</td>\n",
       "      <td>1.003963</td>\n",
       "      <td>-0.515950</td>\n",
       "      <td>-0.165316</td>\n",
       "      <td>0.048424</td>\n",
       "      <td>5384.44</td>\n",
       "      <td>0</td>\n",
       "    </tr>\n",
       "    <tr>\n",
       "      <th>4</th>\n",
       "      <td>4</td>\n",
       "      <td>-0.206820</td>\n",
       "      <td>-0.165280</td>\n",
       "      <td>1.527053</td>\n",
       "      <td>-0.448293</td>\n",
       "      <td>0.106125</td>\n",
       "      <td>0.530549</td>\n",
       "      <td>0.658849</td>\n",
       "      <td>-0.212660</td>\n",
       "      <td>1.049921</td>\n",
       "      <td>...</td>\n",
       "      <td>-0.106984</td>\n",
       "      <td>0.729727</td>\n",
       "      <td>-0.161666</td>\n",
       "      <td>0.312561</td>\n",
       "      <td>-0.414116</td>\n",
       "      <td>1.071126</td>\n",
       "      <td>0.023712</td>\n",
       "      <td>0.419117</td>\n",
       "      <td>14278.97</td>\n",
       "      <td>0</td>\n",
       "    </tr>\n",
       "    <tr>\n",
       "      <th>5</th>\n",
       "      <td>5</td>\n",
       "      <td>0.025302</td>\n",
       "      <td>-0.140514</td>\n",
       "      <td>1.191138</td>\n",
       "      <td>-0.707979</td>\n",
       "      <td>0.430490</td>\n",
       "      <td>0.458973</td>\n",
       "      <td>0.611050</td>\n",
       "      <td>-0.092629</td>\n",
       "      <td>0.180811</td>\n",
       "      <td>...</td>\n",
       "      <td>-0.187739</td>\n",
       "      <td>-0.538518</td>\n",
       "      <td>-0.050465</td>\n",
       "      <td>-0.631553</td>\n",
       "      <td>-0.456480</td>\n",
       "      <td>0.252670</td>\n",
       "      <td>0.066681</td>\n",
       "      <td>0.095812</td>\n",
       "      <td>6901.49</td>\n",
       "      <td>0</td>\n",
       "    </tr>\n",
       "    <tr>\n",
       "      <th>6</th>\n",
       "      <td>6</td>\n",
       "      <td>1.016482</td>\n",
       "      <td>-0.397181</td>\n",
       "      <td>0.497868</td>\n",
       "      <td>-0.144463</td>\n",
       "      <td>0.331022</td>\n",
       "      <td>0.629243</td>\n",
       "      <td>0.431262</td>\n",
       "      <td>-0.134007</td>\n",
       "      <td>0.796159</td>\n",
       "      <td>...</td>\n",
       "      <td>-0.171137</td>\n",
       "      <td>-0.287017</td>\n",
       "      <td>-0.178197</td>\n",
       "      <td>-1.297597</td>\n",
       "      <td>1.182503</td>\n",
       "      <td>-0.604228</td>\n",
       "      <td>-0.198163</td>\n",
       "      <td>-0.087619</td>\n",
       "      <td>18954.45</td>\n",
       "      <td>0</td>\n",
       "    </tr>\n",
       "    <tr>\n",
       "      <th>7</th>\n",
       "      <td>7</td>\n",
       "      <td>-0.051306</td>\n",
       "      <td>-0.007194</td>\n",
       "      <td>1.139941</td>\n",
       "      <td>-0.877880</td>\n",
       "      <td>0.684668</td>\n",
       "      <td>0.714326</td>\n",
       "      <td>0.892615</td>\n",
       "      <td>-0.908409</td>\n",
       "      <td>0.901938</td>\n",
       "      <td>...</td>\n",
       "      <td>0.620676</td>\n",
       "      <td>-0.920426</td>\n",
       "      <td>0.034660</td>\n",
       "      <td>-1.091527</td>\n",
       "      <td>-0.742075</td>\n",
       "      <td>-0.104863</td>\n",
       "      <td>-1.382522</td>\n",
       "      <td>-2.748268</td>\n",
       "      <td>12298.23</td>\n",
       "      <td>0</td>\n",
       "    </tr>\n",
       "    <tr>\n",
       "      <th>8</th>\n",
       "      <td>8</td>\n",
       "      <td>-0.130680</td>\n",
       "      <td>-0.349547</td>\n",
       "      <td>0.425786</td>\n",
       "      <td>-0.760444</td>\n",
       "      <td>1.702777</td>\n",
       "      <td>2.324816</td>\n",
       "      <td>0.568968</td>\n",
       "      <td>0.049100</td>\n",
       "      <td>0.273118</td>\n",
       "      <td>...</td>\n",
       "      <td>-0.132787</td>\n",
       "      <td>-0.284700</td>\n",
       "      <td>-0.227779</td>\n",
       "      <td>2.248754</td>\n",
       "      <td>0.534846</td>\n",
       "      <td>-0.929738</td>\n",
       "      <td>-0.224385</td>\n",
       "      <td>0.243790</td>\n",
       "      <td>22052.90</td>\n",
       "      <td>0</td>\n",
       "    </tr>\n",
       "    <tr>\n",
       "      <th>9</th>\n",
       "      <td>9</td>\n",
       "      <td>0.058419</td>\n",
       "      <td>-0.093507</td>\n",
       "      <td>1.117270</td>\n",
       "      <td>-0.735172</td>\n",
       "      <td>0.466111</td>\n",
       "      <td>0.332371</td>\n",
       "      <td>0.683425</td>\n",
       "      <td>-0.136674</td>\n",
       "      <td>0.096409</td>\n",
       "      <td>...</td>\n",
       "      <td>-0.203634</td>\n",
       "      <td>-0.601581</td>\n",
       "      <td>-0.145082</td>\n",
       "      <td>-0.654783</td>\n",
       "      <td>-0.196621</td>\n",
       "      <td>0.226818</td>\n",
       "      <td>0.057119</td>\n",
       "      <td>0.100629</td>\n",
       "      <td>210.35</td>\n",
       "      <td>0</td>\n",
       "    </tr>\n",
       "  </tbody>\n",
       "</table>\n",
       "<p>10 rows × 31 columns</p>\n",
       "</div>"
      ],
      "text/plain": [
       "   id        V1        V2        V3        V4        V5        V6        V7  \\\n",
       "0   0 -0.260648 -0.469648  2.496266 -0.083724  0.129681  0.732898  0.519014   \n",
       "1   1  0.985100 -0.356045  0.558056 -0.429654  0.277140  0.428605  0.406466   \n",
       "2   2 -0.260272 -0.949385  1.728538 -0.457986  0.074062  1.419481  0.743511   \n",
       "3   3 -0.152152 -0.508959  1.746840 -1.090178  0.249486  1.143312  0.518269   \n",
       "4   4 -0.206820 -0.165280  1.527053 -0.448293  0.106125  0.530549  0.658849   \n",
       "5   5  0.025302 -0.140514  1.191138 -0.707979  0.430490  0.458973  0.611050   \n",
       "6   6  1.016482 -0.397181  0.497868 -0.144463  0.331022  0.629243  0.431262   \n",
       "7   7 -0.051306 -0.007194  1.139941 -0.877880  0.684668  0.714326  0.892615   \n",
       "8   8 -0.130680 -0.349547  0.425786 -0.760444  1.702777  2.324816  0.568968   \n",
       "9   9  0.058419 -0.093507  1.117270 -0.735172  0.466111  0.332371  0.683425   \n",
       "\n",
       "         V8        V9  ...       V21       V22       V23       V24       V25  \\\n",
       "0 -0.130006  0.727159  ... -0.110552  0.217606 -0.134794  0.165959  0.126280   \n",
       "1 -0.133118  0.347452  ... -0.194936 -0.605761  0.079469 -0.577395  0.190090   \n",
       "2 -0.095576 -0.261297  ... -0.005020  0.702906  0.945045 -1.154666 -0.605564   \n",
       "3 -0.065130 -0.205698  ... -0.146927 -0.038212 -0.214048 -1.893131  1.003963   \n",
       "4 -0.212660  1.049921  ... -0.106984  0.729727 -0.161666  0.312561 -0.414116   \n",
       "5 -0.092629  0.180811  ... -0.187739 -0.538518 -0.050465 -0.631553 -0.456480   \n",
       "6 -0.134007  0.796159  ... -0.171137 -0.287017 -0.178197 -1.297597  1.182503   \n",
       "7 -0.908409  0.901938  ...  0.620676 -0.920426  0.034660 -1.091527 -0.742075   \n",
       "8  0.049100  0.273118  ... -0.132787 -0.284700 -0.227779  2.248754  0.534846   \n",
       "9 -0.136674  0.096409  ... -0.203634 -0.601581 -0.145082 -0.654783 -0.196621   \n",
       "\n",
       "        V26       V27       V28    Amount  Class  \n",
       "0 -0.434824 -0.081230 -0.151045  17982.10      0  \n",
       "1  0.296503 -0.248052 -0.064512   6531.37      0  \n",
       "2 -0.312895 -0.300258 -0.244718   2513.54      0  \n",
       "3 -0.515950 -0.165316  0.048424   5384.44      0  \n",
       "4  1.071126  0.023712  0.419117  14278.97      0  \n",
       "5  0.252670  0.066681  0.095812   6901.49      0  \n",
       "6 -0.604228 -0.198163 -0.087619  18954.45      0  \n",
       "7 -0.104863 -1.382522 -2.748268  12298.23      0  \n",
       "8 -0.929738 -0.224385  0.243790  22052.90      0  \n",
       "9  0.226818  0.057119  0.100629    210.35      0  \n",
       "\n",
       "[10 rows x 31 columns]"
      ]
     },
     "execution_count": 6,
     "metadata": {},
     "output_type": "execute_result"
    }
   ],
   "source": [
    "creditCard_data.head(10)"
   ]
  },
  {
   "cell_type": "markdown",
   "metadata": {
    "_cell_guid": "c9654b51-86ec-4a39-88d6-59f58cd0c8f9",
    "_uuid": "a643b2ff-4644-4ec7-b884-839d2cc58026"
   },
   "source": [
    "## Preprocessing the data"
   ]
  },
  {
   "cell_type": "code",
   "execution_count": 7,
   "metadata": {
    "_cell_guid": "a9826d4b-869d-4c8a-9efe-a79e34091894",
    "_uuid": "288e289c-ff7e-4832-b1f1-0b11d4263c79",
    "execution": {
     "iopub.execute_input": "2023-09-21T19:34:02.134104Z",
     "iopub.status.busy": "2023-09-21T19:34:02.13369Z",
     "iopub.status.idle": "2023-09-21T19:34:02.170507Z",
     "shell.execute_reply": "2023-09-21T19:34:02.169342Z",
     "shell.execute_reply.started": "2023-09-21T19:34:02.134067Z"
    },
    "jupyter": {
     "outputs_hidden": false
    }
   },
   "outputs": [
    {
     "data": {
      "text/plain": [
       "id        0\n",
       "V1        0\n",
       "V2        0\n",
       "V3        0\n",
       "V4        0\n",
       "V5        0\n",
       "V6        0\n",
       "V7        0\n",
       "V8        0\n",
       "V9        0\n",
       "V10       0\n",
       "V11       0\n",
       "V12       0\n",
       "V13       0\n",
       "V14       0\n",
       "V15       0\n",
       "V16       0\n",
       "V17       0\n",
       "V18       0\n",
       "V19       0\n",
       "V20       0\n",
       "V21       0\n",
       "V22       0\n",
       "V23       0\n",
       "V24       0\n",
       "V25       0\n",
       "V26       0\n",
       "V27       0\n",
       "V28       0\n",
       "Amount    0\n",
       "Class     0\n",
       "dtype: int64"
      ]
     },
     "execution_count": 7,
     "metadata": {},
     "output_type": "execute_result"
    }
   ],
   "source": [
    "## checking for null values if any\n",
    "creditCard_data.isna().sum()"
   ]
  },
  {
   "cell_type": "code",
   "execution_count": 8,
   "metadata": {
    "_cell_guid": "a559537b-6a05-4e92-8c90-d4f406f84875",
    "_uuid": "143ee42a-5b45-4047-9919-25116f8c7b18",
    "execution": {
     "iopub.execute_input": "2023-09-21T19:34:02.172513Z",
     "iopub.status.busy": "2023-09-21T19:34:02.172159Z",
     "iopub.status.idle": "2023-09-21T19:34:04.256886Z",
     "shell.execute_reply": "2023-09-21T19:34:04.255808Z",
     "shell.execute_reply.started": "2023-09-21T19:34:02.172481Z"
    },
    "jupyter": {
     "outputs_hidden": false
    }
   },
   "outputs": [
    {
     "data": {
      "text/html": [
       "<div>\n",
       "<style scoped>\n",
       "    .dataframe tbody tr th:only-of-type {\n",
       "        vertical-align: middle;\n",
       "    }\n",
       "\n",
       "    .dataframe tbody tr th {\n",
       "        vertical-align: top;\n",
       "    }\n",
       "\n",
       "    .dataframe thead th {\n",
       "        text-align: right;\n",
       "    }\n",
       "</style>\n",
       "<table border=\"1\" class=\"dataframe\">\n",
       "  <thead>\n",
       "    <tr style=\"text-align: right;\">\n",
       "      <th></th>\n",
       "      <th>id</th>\n",
       "      <th>V1</th>\n",
       "      <th>V2</th>\n",
       "      <th>V3</th>\n",
       "      <th>V4</th>\n",
       "      <th>V5</th>\n",
       "      <th>V6</th>\n",
       "      <th>V7</th>\n",
       "      <th>V8</th>\n",
       "      <th>V9</th>\n",
       "      <th>...</th>\n",
       "      <th>V21</th>\n",
       "      <th>V22</th>\n",
       "      <th>V23</th>\n",
       "      <th>V24</th>\n",
       "      <th>V25</th>\n",
       "      <th>V26</th>\n",
       "      <th>V27</th>\n",
       "      <th>V28</th>\n",
       "      <th>Amount</th>\n",
       "      <th>Class</th>\n",
       "    </tr>\n",
       "  </thead>\n",
       "  <tbody>\n",
       "  </tbody>\n",
       "</table>\n",
       "<p>0 rows × 31 columns</p>\n",
       "</div>"
      ],
      "text/plain": [
       "Empty DataFrame\n",
       "Columns: [id, V1, V2, V3, V4, V5, V6, V7, V8, V9, V10, V11, V12, V13, V14, V15, V16, V17, V18, V19, V20, V21, V22, V23, V24, V25, V26, V27, V28, Amount, Class]\n",
       "Index: []\n",
       "\n",
       "[0 rows x 31 columns]"
      ]
     },
     "execution_count": 8,
     "metadata": {},
     "output_type": "execute_result"
    }
   ],
   "source": [
    "## checking for duplicates if any \n",
    "creditCard_data[creditCard_data.duplicated()]"
   ]
  },
  {
   "cell_type": "code",
   "execution_count": 9,
   "metadata": {
    "_cell_guid": "8a8481a4-a5f2-4837-bc1b-7751e7735e0d",
    "_uuid": "b41d4053-8bdf-4792-9962-e77dbc1b116e",
    "execution": {
     "iopub.execute_input": "2023-09-21T19:34:04.259414Z",
     "iopub.status.busy": "2023-09-21T19:34:04.258478Z",
     "iopub.status.idle": "2023-09-21T19:34:04.3107Z",
     "shell.execute_reply": "2023-09-21T19:34:04.30902Z",
     "shell.execute_reply.started": "2023-09-21T19:34:04.259385Z"
    },
    "jupyter": {
     "outputs_hidden": false
    }
   },
   "outputs": [
    {
     "name": "stdout",
     "output_type": "stream",
     "text": [
      "x shape: (568630, 29)\n",
      "y shape:  (568630,)\n"
     ]
    }
   ],
   "source": [
    "## extract the features and the label \n",
    "y = creditCard_data.iloc[:,-1]\n",
    "x = creditCard_data.iloc[:,1:30]\n",
    "\n",
    "print(\"x shape:\" , x.shape)\n",
    "print(\"y shape: \",y.shape)"
   ]
  },
  {
   "cell_type": "code",
   "execution_count": 10,
   "metadata": {
    "_cell_guid": "a3d32d19-4804-4e3d-a9c9-e9ee36a8ad9e",
    "_uuid": "81d92d89-6bba-4819-b29a-ff3ad9b30f7b",
    "execution": {
     "iopub.execute_input": "2023-09-21T19:34:04.312814Z",
     "iopub.status.busy": "2023-09-21T19:34:04.312418Z",
     "iopub.status.idle": "2023-09-21T19:34:04.447752Z",
     "shell.execute_reply": "2023-09-21T19:34:04.446755Z",
     "shell.execute_reply.started": "2023-09-21T19:34:04.312755Z"
    },
    "jupyter": {
     "outputs_hidden": false
    }
   },
   "outputs": [
    {
     "data": {
      "text/plain": [
       "array([0.56509083, 0.91106842, 0.32814324, 0.59703704, 0.19142831,\n",
       "       0.46201845, 0.02191858, 0.63576003, 0.18645748, 0.10895522,\n",
       "       0.58662371, 0.11607518, 0.38149206, 0.12485038, 0.30807256,\n",
       "       0.04972865, 0.31619636, 0.29933661, 0.68140328, 0.72429707,\n",
       "       0.70157444, 0.39044943, 0.48643805, 0.24856315, 0.48660636,\n",
       "       0.56259943, 0.08419483, 0.33436928, 0.74748436])"
      ]
     },
     "execution_count": 10,
     "metadata": {},
     "output_type": "execute_result"
    }
   ],
   "source": [
    "## normalize the data \n",
    "scaler = MinMaxScaler()\n",
    "x_normalized = scaler.fit_transform(x)\n",
    "x_normalized[0]"
   ]
  },
  {
   "cell_type": "code",
   "execution_count": 11,
   "metadata": {
    "_cell_guid": "b223d13d-0b6c-4b8d-b409-5d850b6b9341",
    "_uuid": "2626ef2e-201b-4d3b-8d1a-e0f6f1bed19e",
    "execution": {
     "iopub.execute_input": "2023-09-21T19:34:04.449784Z",
     "iopub.status.busy": "2023-09-21T19:34:04.449384Z",
     "iopub.status.idle": "2023-09-21T19:34:05.425644Z",
     "shell.execute_reply": "2023-09-21T19:34:05.424701Z",
     "shell.execute_reply.started": "2023-09-21T19:34:04.44973Z"
    },
    "jupyter": {
     "outputs_hidden": false
    }
   },
   "outputs": [
    {
     "data": {
      "image/png": "[encoded data removed]",
      "text/plain": [
       "<Figure size 640x480 with 1 Axes>"
      ]
     },
     "metadata": {},
     "output_type": "display_data"
    }
   ],
   "source": [
    "## check for outliers if any \n",
    "sns.boxplot(x = x_normalized)\n",
    "plt.show()"
   ]
  },
  {
   "cell_type": "code",
   "execution_count": 12,
   "metadata": {
    "_cell_guid": "8b224d7f-99f5-4752-b1f8-dbb72edf93bd",
    "_uuid": "88154fc7-57fa-4a0f-b834-3dc5a42785ce",
    "execution": {
     "iopub.execute_input": "2023-09-21T19:34:05.427416Z",
     "iopub.status.busy": "2023-09-21T19:34:05.426854Z",
     "iopub.status.idle": "2023-09-21T19:34:06.575663Z",
     "shell.execute_reply": "2023-09-21T19:34:06.574682Z",
     "shell.execute_reply.started": "2023-09-21T19:34:05.427387Z"
    },
    "jupyter": {
     "outputs_hidden": false
    }
   },
   "outputs": [
    {
     "name": "stdout",
     "output_type": "stream",
     "text": [
      "number of components needed to retain 95% of the data:  11\n"
     ]
    }
   ],
   "source": [
    "## reduce the dimension of the data \n",
    "pca = PCA()\n",
    "pca.fit_transform(x_normalized)\n",
    "cum_var = np.cumsum(pca.explained_variance_ratio_)\n",
    "num_components = np.argmax(cum_var >= 0.95)+1\n",
    "print(\"number of components needed to retain 95% of the data: \",num_components)"
   ]
  },
  {
   "cell_type": "code",
   "execution_count": 13,
   "metadata": {},
   "outputs": [
    {
     "data": {
      "text/plain": [
       "array([0.3930391 , 0.6985914 , 0.76273027, 0.81567022, 0.84436258,\n",
       "       0.86883517, 0.89078754, 0.90970961, 0.92632565, 0.94153327,\n",
       "       0.95430386, 0.96535532, 0.97291442, 0.97948193, 0.98376147,\n",
       "       0.98784078, 0.99084147, 0.99299465, 0.99465602, 0.99595253,\n",
       "       0.99696738, 0.99773861, 0.99842395, 0.99887756, 0.99927116,\n",
       "       0.9995691 , 0.99978318, 0.99996911, 1.        ])"
      ]
     },
     "execution_count": 13,
     "metadata": {},
     "output_type": "execute_result"
    }
   ],
   "source": [
    "cum_var"
   ]
  },
  {
   "cell_type": "code",
   "execution_count": 14,
   "metadata": {
    "_cell_guid": "4edf5c53-9d2a-4cc6-8a1d-a52b59b63f07",
    "_uuid": "d38d84d5-9c67-40bb-b05c-c1f6616d782c",
    "execution": {
     "iopub.execute_input": "2023-09-21T19:34:06.584039Z",
     "iopub.status.busy": "2023-09-21T19:34:06.581751Z",
     "iopub.status.idle": "2023-09-21T19:34:10.58312Z",
     "shell.execute_reply": "2023-09-21T19:34:10.582149Z",
     "shell.execute_reply.started": "2023-09-21T19:34:06.583976Z"
    },
    "jupyter": {
     "outputs_hidden": false
    }
   },
   "outputs": [
    {
     "name": "stdout",
     "output_type": "stream",
     "text": [
      "x shape after reduction:  (568630, 11)\n"
     ]
    }
   ],
   "source": [
    "pca2 = PCA(n_components= num_components)\n",
    "x_reduced = pca2.fit_transform(x_normalized)\n",
    "print('x shape after reduction: ', x_reduced.shape)"
   ]
  },
  {
   "cell_type": "code",
   "execution_count": 15,
   "metadata": {
    "_cell_guid": "28183bbf-794f-4dc4-9edc-2db64f00761e",
    "_uuid": "942f4f3f-db75-4a2e-b9cb-94e77022d5ee",
    "execution": {
     "iopub.execute_input": "2023-09-21T19:34:10.586062Z",
     "iopub.status.busy": "2023-09-21T19:34:10.584586Z",
     "iopub.status.idle": "2023-09-21T19:34:10.679167Z",
     "shell.execute_reply": "2023-09-21T19:34:10.678208Z",
     "shell.execute_reply.started": "2023-09-21T19:34:10.586027Z"
    },
    "jupyter": {
     "outputs_hidden": false
    }
   },
   "outputs": [
    {
     "name": "stdout",
     "output_type": "stream",
     "text": [
      "x_train shape: (398041, 11)\n",
      "y_train shape: (398041,)\n",
      "x_test shape: (170589, 11)\n",
      "y_test shape: (170589,)\n"
     ]
    }
   ],
   "source": [
    "x_train , x_test, y_train , y_test = train_test_split(x_reduced,y,train_size = 0.7)\n",
    "print(\"x_train shape:\" , x_train.shape)\n",
    "print(\"y_train shape:\" , y_train.shape)\n",
    "print(\"x_test shape:\" , x_test.shape)\n",
    "print(\"y_test shape:\" , y_test.shape)"
   ]
  },
  {
   "cell_type": "markdown",
   "metadata": {
    "_cell_guid": "e466d6fe-5643-401f-a65d-74eb96ea5cb5",
    "_uuid": "6c75bbe7-1402-4edd-8ca5-791fb41766e0"
   },
   "source": [
    "## Apply Models"
   ]
  },
  {
   "cell_type": "markdown",
   "metadata": {
    "_cell_guid": "51670d79-6fa3-4176-915a-fc11361a3be1",
    "_uuid": "84255e80-60c9-4dd6-b278-b9703ff73772"
   },
   "source": [
    "### All Traditional Classifier Models"
   ]
  },
  {
   "cell_type": "code",
   "execution_count": 16,
   "metadata": {},
   "outputs": [],
   "source": [
    "models = [\n",
    "    ('Logistic Regression', LogisticRegression()),\n",
    "    ('Linear Support Vector Classifier', LinearSVC()),\n",
    "    ('Decision Tree Classifier', DecisionTreeClassifier()),\n",
    "    ('Naive Bayes', GaussianNB()),\n",
    "    ('K-Nearest Neighbors', KNeighborsClassifier()),\n",
    "    ('XGBoost', XGBClassifier()),\n",
    "    ('GradientBoostingClassifier', GradientBoostingClassifier()),\n",
    "    ('RandomForestClassifier', RandomForestClassifier()),\n",
    "    ('AdaBoostClassifier', AdaBoostClassifier())\n",
    "    \n",
    "]"
   ]
  },
  {
   "cell_type": "code",
   "execution_count": 17,
   "metadata": {},
   "outputs": [
    {
     "name": "stdout",
     "output_type": "stream",
     "text": [
      "\n",
      "Model Name: LogisticRegression\n",
      "\n",
      "\n",
      "Model Hyperparameters:\n",
      "{'C': 1.0, 'class_weight': None, 'dual': False, 'fit_intercept': True, 'intercept_scaling': 1, 'l1_ratio': None, 'max_iter': 100, 'multi_class': 'auto', 'n_jobs': None, 'penalty': 'l2', 'random_state': None, 'solver': 'lbfgs', 'tol': 0.0001, 'verbose': 0, 'warm_start': False}\n",
      "\n",
      "\n",
      "F1 Score: 0.9420207339928357\n",
      "**************************************************\n"
     ]
    },
    {
     "name": "stderr",
     "output_type": "stream",
     "text": [
      "/Users/wei/anaconda3/lib/python3.10/site-packages/sklearn/svm/_classes.py:32: FutureWarning: The default value of `dual` will change from `True` to `'auto'` in 1.5. Set the value of `dual` explicitly to suppress the warning.\n",
      "  warnings.warn(\n"
     ]
    },
    {
     "name": "stdout",
     "output_type": "stream",
     "text": [
      "\n",
      "Model Name: LinearSVC\n",
      "\n",
      "\n",
      "Model Hyperparameters:\n",
      "{'C': 1.0, 'class_weight': None, 'dual': 'warn', 'fit_intercept': True, 'intercept_scaling': 1, 'loss': 'squared_hinge', 'max_iter': 1000, 'multi_class': 'ovr', 'penalty': 'l2', 'random_state': None, 'tol': 0.0001, 'verbose': 0}\n",
      "\n",
      "\n",
      "F1 Score: 0.9418632993870647\n",
      "**************************************************\n",
      "\n",
      "Model Name: DecisionTreeClassifier\n",
      "\n",
      "\n",
      "Model Hyperparameters:\n",
      "{'ccp_alpha': 0.0, 'class_weight': None, 'criterion': 'gini', 'max_depth': None, 'max_features': None, 'max_leaf_nodes': None, 'min_impurity_decrease': 0.0, 'min_samples_leaf': 1, 'min_samples_split': 2, 'min_weight_fraction_leaf': 0.0, 'random_state': None, 'splitter': 'best'}\n",
      "\n",
      "\n",
      "F1 Score: 0.9949665602498077\n",
      "**************************************************\n",
      "\n",
      "Model Name: GaussianNB\n",
      "\n",
      "\n",
      "Model Hyperparameters:\n",
      "{'priors': None, 'var_smoothing': 1e-09}\n",
      "\n",
      "\n",
      "F1 Score: 0.9177291227381945\n",
      "**************************************************\n",
      "\n",
      "Model Name: KNeighborsClassifier\n",
      "\n",
      "\n",
      "Model Hyperparameters:\n",
      "{'algorithm': 'auto', 'leaf_size': 30, 'metric': 'minkowski', 'metric_params': None, 'n_jobs': None, 'n_neighbors': 5, 'p': 2, 'weights': 'uniform'}\n",
      "\n",
      "\n",
      "F1 Score: 0.9892520391045294\n",
      "**************************************************\n",
      "\n",
      "Model Name: XGBClassifier\n",
      "\n",
      "\n",
      "Model Hyperparameters:\n",
      "{'objective': 'binary:logistic', 'base_score': None, 'booster': None, 'callbacks': None, 'colsample_bylevel': None, 'colsample_bynode': None, 'colsample_bytree': None, 'device': None, 'early_stopping_rounds': None, 'enable_categorical': False, 'eval_metric': None, 'feature_types': None, 'gamma': None, 'grow_policy': None, 'importance_type': None, 'interaction_constraints': None, 'learning_rate': None, 'max_bin': None, 'max_cat_threshold': None, 'max_cat_to_onehot': None, 'max_delta_step': None, 'max_depth': None, 'max_leaves': None, 'min_child_weight': None, 'missing': nan, 'monotone_constraints': None, 'multi_strategy': None, 'n_estimators': None, 'n_jobs': None, 'num_parallel_tree': None, 'random_state': None, 'reg_alpha': None, 'reg_lambda': None, 'sampling_method': None, 'scale_pos_weight': None, 'subsample': None, 'tree_method': None, 'validate_parameters': None, 'verbosity': None}\n",
      "\n",
      "\n",
      "F1 Score: 0.9957603149147106\n",
      "**************************************************\n",
      "\n",
      "Model Name: GradientBoostingClassifier\n",
      "\n",
      "\n",
      "Model Hyperparameters:\n",
      "{'ccp_alpha': 0.0, 'criterion': 'friedman_mse', 'init': None, 'learning_rate': 0.1, 'loss': 'log_loss', 'max_depth': 3, 'max_features': None, 'max_leaf_nodes': None, 'min_impurity_decrease': 0.0, 'min_samples_leaf': 1, 'min_samples_split': 2, 'min_weight_fraction_leaf': 0.0, 'n_estimators': 100, 'n_iter_no_change': None, 'random_state': None, 'subsample': 1.0, 'tol': 0.0001, 'validation_fraction': 0.1, 'verbose': 0, 'warm_start': False}\n",
      "\n",
      "\n",
      "F1 Score: 0.9579005636669901\n",
      "**************************************************\n",
      "\n",
      "Model Name: RandomForestClassifier\n",
      "\n",
      "\n",
      "Model Hyperparameters:\n",
      "{'bootstrap': True, 'ccp_alpha': 0.0, 'class_weight': None, 'criterion': 'gini', 'max_depth': None, 'max_features': 'sqrt', 'max_leaf_nodes': None, 'max_samples': None, 'min_impurity_decrease': 0.0, 'min_samples_leaf': 1, 'min_samples_split': 2, 'min_weight_fraction_leaf': 0.0, 'n_estimators': 100, 'n_jobs': None, 'oob_score': False, 'random_state': None, 'verbose': 0, 'warm_start': False}\n",
      "\n",
      "\n",
      "F1 Score: 0.9995216483298528\n",
      "**************************************************\n",
      "\n",
      "Model Name: AdaBoostClassifier\n",
      "\n",
      "\n",
      "Model Hyperparameters:\n",
      "{'algorithm': 'SAMME.R', 'base_estimator': 'deprecated', 'estimator': None, 'learning_rate': 1.0, 'n_estimators': 50, 'random_state': None}\n",
      "\n",
      "\n",
      "F1 Score: 0.9446802422623873\n",
      "**************************************************\n"
     ]
    }
   ],
   "source": [
    "results = []\n",
    "for model_name, model in models:\n",
    "    model.fit(x_train, y_train)\n",
    "    y_pred = model.predict(x_test)\n",
    "    f1 = f1_score(y_test, y_pred)  # Calculate F1-score\n",
    "    results.append((model_name, f1))\n",
    "    hyperparameters = model.get_params()\n",
    "    model_name = model.__class__.__name__\n",
    "    model_score = f1\n",
    "    print(\"\\nModel Name:\", model_name)\n",
    "    print(\"\\n\")\n",
    "    print(\"Model Hyperparameters:\")\n",
    "    print(hyperparameters)\n",
    "    print(\"\\n\")\n",
    "    print(\"F1 Score:\", model_score)\n",
    "    print(\"*\" * 50)\n",
    "    sorted_results = sorted(results, key=lambda x: x[1], reverse=True)"
   ]
  },
  {
   "cell_type": "code",
   "execution_count": 36,
   "metadata": {},
   "outputs": [
    {
     "data": {
      "image/png": "[encoded data removed]",
      "text/plain": [
       "<Figure size 800x400 with 1 Axes>"
      ]
     },
     "metadata": {},
     "output_type": "display_data"
    }
   ],
   "source": [
    "model_names = [model[0] for model in sorted_results]\n",
    "f1_scores = [model[1] for model in sorted_results]\n",
    "\n",
    "plt.figure(figsize=(8, 4))\n",
    "bars = plt.barh(model_names, f1_scores, color='#5C80BC')\n",
    "plt.xlabel('F1 Score')\n",
    "plt.title('Model F1 Score Comparison (Descending Order)')\n",
    "plt.xlim(0, 1)\n",
    "plt.gca().invert_yaxis()\n",
    "\n",
    "for bar, score in zip(bars, f1_scores):\n",
    "    plt.text(score, bar.get_y() + bar.get_height() / 2, f'{score:.2f}', va='center')\n",
    "\n",
    "plt.show()"
   ]
  },
  {
   "cell_type": "markdown",
   "metadata": {},
   "source": [
    "### The best one is RandomForestClassifier"
   ]
  },
  {
   "cell_type": "code",
   "execution_count": 21,
   "metadata": {},
   "outputs": [],
   "source": [
    "# Create the parameter grid based on the results of random search \n",
    "param_grid = {\n",
    "    'bootstrap': [True],\n",
    "    'max_depth': [80, 90, 100],\n",
    "    'min_samples_leaf': [3, 4],\n",
    "    'min_samples_split': [8, 10],\n",
    "    'n_estimators': [100, 200, 500]\n",
    "}\n",
    "# Create a based model\n",
    "rf = RandomForestClassifier()\n",
    "# Instantiate the grid search model\n",
    "grid_search = GridSearchCV(estimator = rf, param_grid = param_grid, \n",
    "                          cv = 3, n_jobs = -1, verbose = 2)"
   ]
  },
  {
   "cell_type": "code",
   "execution_count": 30,
   "metadata": {},
   "outputs": [
    {
     "data": {
      "text/plain": [
       "{'bootstrap': True,\n",
       " 'ccp_alpha': 0.0,\n",
       " 'class_weight': None,\n",
       " 'criterion': 'gini',\n",
       " 'max_depth': None,\n",
       " 'max_features': 'sqrt',\n",
       " 'max_leaf_nodes': None,\n",
       " 'max_samples': None,\n",
       " 'min_impurity_decrease': 0.0,\n",
       " 'min_samples_leaf': 1,\n",
       " 'min_samples_split': 2,\n",
       " 'min_weight_fraction_leaf': 0.0,\n",
       " 'n_estimators': 100,\n",
       " 'n_jobs': None,\n",
       " 'oob_score': False,\n",
       " 'random_state': None,\n",
       " 'verbose': 0,\n",
       " 'warm_start': False}"
      ]
     },
     "execution_count": 30,
     "metadata": {},
     "output_type": "execute_result"
    }
   ],
   "source": [
    "rf.get_params(deep=True)"
   ]
  },
  {
   "cell_type": "code",
   "execution_count": 31,
   "metadata": {},
   "outputs": [
    {
     "data": {
      "text/html": [
       "<style>#sk-container-id-1 {color: black;}#sk-container-id-1 pre{padding: 0;}#sk-container-id-1 div.sk-toggleable {background-color: white;}#sk-container-id-1 label.sk-toggleable__label {cursor: pointer;display: block;width: 100%;margin-bottom: 0;padding: 0.3em;box-sizing: border-box;text-align: center;}#sk-container-id-1 label.sk-toggleable__label-arrow:before {content: \"▸\";float: left;margin-right: 0.25em;color: #696969;}#sk-container-id-1 label.sk-toggleable__label-arrow:hover:before {color: black;}#sk-container-id-1 div.sk-estimator:hover label.sk-toggleable__label-arrow:before {color: black;}#sk-container-id-1 div.sk-toggleable__content {max-height: 0;max-width: 0;overflow: hidden;text-align: left;background-color: #f0f8ff;}#sk-container-id-1 div.sk-toggleable__content pre {margin: 0.2em;color: black;border-radius: 0.25em;background-color: #f0f8ff;}#sk-container-id-1 input.sk-toggleable__control:checked~div.sk-toggleable__content {max-height: 200px;max-width: 100%;overflow: auto;}#sk-container-id-1 input.sk-toggleable__control:checked~label.sk-toggleable__label-arrow:before {content: \"▾\";}#sk-container-id-1 div.sk-estimator input.sk-toggleable__control:checked~label.sk-toggleable__label {background-color: #d4ebff;}#sk-container-id-1 div.sk-label input.sk-toggleable__control:checked~label.sk-toggleable__label {background-color: #d4ebff;}#sk-container-id-1 input.sk-hidden--visually {border: 0;clip: rect(1px 1px 1px 1px);clip: rect(1px, 1px, 1px, 1px);height: 1px;margin: -1px;overflow: hidden;padding: 0;position: absolute;width: 1px;}#sk-container-id-1 div.sk-estimator {font-family: monospace;background-color: #f0f8ff;border: 1px dotted black;border-radius: 0.25em;box-sizing: border-box;margin-bottom: 0.5em;}#sk-container-id-1 div.sk-estimator:hover {background-color: #d4ebff;}#sk-container-id-1 div.sk-parallel-item::after {content: \"\";width: 100%;border-bottom: 1px solid gray;flex-grow: 1;}#sk-container-id-1 div.sk-label:hover label.sk-toggleable__label {background-color: #d4ebff;}#sk-container-id-1 div.sk-serial::before {content: \"\";position: absolute;border-left: 1px solid gray;box-sizing: border-box;top: 0;bottom: 0;left: 50%;z-index: 0;}#sk-container-id-1 div.sk-serial {display: flex;flex-direction: column;align-items: center;background-color: white;padding-right: 0.2em;padding-left: 0.2em;position: relative;}#sk-container-id-1 div.sk-item {position: relative;z-index: 1;}#sk-container-id-1 div.sk-parallel {display: flex;align-items: stretch;justify-content: center;background-color: white;position: relative;}#sk-container-id-1 div.sk-item::before, #sk-container-id-1 div.sk-parallel-item::before {content: \"\";position: absolute;border-left: 1px solid gray;box-sizing: border-box;top: 0;bottom: 0;left: 50%;z-index: -1;}#sk-container-id-1 div.sk-parallel-item {display: flex;flex-direction: column;z-index: 1;position: relative;background-color: white;}#sk-container-id-1 div.sk-parallel-item:first-child::after {align-self: flex-end;width: 50%;}#sk-container-id-1 div.sk-parallel-item:last-child::after {align-self: flex-start;width: 50%;}#sk-container-id-1 div.sk-parallel-item:only-child::after {width: 0;}#sk-container-id-1 div.sk-dashed-wrapped {border: 1px dashed gray;margin: 0 0.4em 0.5em 0.4em;box-sizing: border-box;padding-bottom: 0.4em;background-color: white;}#sk-container-id-1 div.sk-label label {font-family: monospace;font-weight: bold;display: inline-block;line-height: 1.2em;}#sk-container-id-1 div.sk-label-container {text-align: center;}#sk-container-id-1 div.sk-container {/* jupyter's `normalize.less` sets `[hidden] { display: none; }` but bootstrap.min.css set `[hidden] { display: none !important; }` so we also need the `!important` here to be able to override the default hidden behavior on the sphinx rendered scikit-learn.org. See: https://github.com/scikit-learn/scikit-learn/issues/21755 */display: inline-block !important;position: relative;}#sk-container-id-1 div.sk-text-repr-fallback {display: none;}</style><div id=\"sk-container-id-1\" class=\"sk-top-container\"><div class=\"sk-text-repr-fallback\"><pre>RandomForestClassifier()</pre><b>In a Jupyter environment, please rerun this cell to show the HTML representation or trust the notebook. <br />On GitHub, the HTML representation is unable to render, please try loading this page with nbviewer.org.</b></div><div class=\"sk-container\" hidden><div class=\"sk-item\"><div class=\"sk-estimator sk-toggleable\"><input class=\"sk-toggleable__control sk-hidden--visually\" id=\"sk-estimator-id-1\" type=\"checkbox\" checked><label for=\"sk-estimator-id-1\" class=\"sk-toggleable__label sk-toggleable__label-arrow\">RandomForestClassifier</label><div class=\"sk-toggleable__content\"><pre>RandomForestClassifier()</pre></div></div></div></div></div>"
      ],
      "text/plain": [
       "RandomForestClassifier()"
      ]
     },
     "execution_count": 31,
     "metadata": {},
     "output_type": "execute_result"
    }
   ],
   "source": [
    "rf.fit(x_train, y_train)"
   ]
  },
  {
   "cell_type": "code",
   "execution_count": 32,
   "metadata": {},
   "outputs": [
    {
     "name": "stdout",
     "output_type": "stream",
     "text": [
      "Test Set F1 Score of the Base Model: 0.9994983082487457\n"
     ]
    }
   ],
   "source": [
    "y_pred = rf.predict(x_test)\n",
    "\n",
    "test_f1_score = f1_score(y_test, y_pred)\n",
    "print(\"Test Set F1 Score of the Base Model:\", test_f1_score)"
   ]
  },
  {
   "cell_type": "code",
   "execution_count": 33,
   "metadata": {},
   "outputs": [
    {
     "data": {
      "text/plain": [
       "<sklearn.metrics._plot.confusion_matrix.ConfusionMatrixDisplay at 0x7f9f6dac45e0>"
      ]
     },
     "execution_count": 33,
     "metadata": {},
     "output_type": "execute_result"
    },
    {
     "data": {
      "image/png": "[encoded data removed]",
      "text/plain": [
       "<Figure size 640x480 with 2 Axes>"
      ]
     },
     "metadata": {},
     "output_type": "display_data"
    }
   ],
   "source": [
    "# Create the confusion matrix\n",
    "cm = confusion_matrix(y_test, y_pred)\n",
    "\n",
    "ConfusionMatrixDisplay(confusion_matrix=cm).plot()"
   ]
  },
  {
   "cell_type": "code",
   "execution_count": null,
   "metadata": {},
   "outputs": [],
   "source": []
  },
  {
   "cell_type": "code",
   "execution_count": 22,
   "metadata": {},
   "outputs": [
    {
     "name": "stdout",
     "output_type": "stream",
     "text": [
      "Fitting 3 folds for each of 36 candidates, totalling 108 fits\n",
      "[CV] END bootstrap=True, max_depth=80, min_samples_leaf=3, min_samples_split=8, n_estimators=200; total time= 8.3min\n",
      "[CV] END bootstrap=True, max_depth=80, min_samples_leaf=3, min_samples_split=10, n_estimators=100; total time= 3.9min\n",
      "[CV] END bootstrap=True, max_depth=80, min_samples_leaf=3, min_samples_split=10, n_estimators=500; total time=19.1min\n",
      "[CV] END bootstrap=True, max_depth=80, min_samples_leaf=4, min_samples_split=10, n_estimators=200; total time= 7.7min\n",
      "[CV] END bootstrap=True, max_depth=80, min_samples_leaf=4, min_samples_split=10, n_estimators=500; total time=19.5min\n",
      "[CV] END bootstrap=True, max_depth=90, min_samples_leaf=3, min_samples_split=10, n_estimators=500; total time=19.6min\n",
      "[CV] END bootstrap=True, max_depth=90, min_samples_leaf=4, min_samples_split=10, n_estimators=200; total time= 7.8min\n",
      "[CV] END bootstrap=True, max_depth=90, min_samples_leaf=4, min_samples_split=10, n_estimators=500; total time=19.6min\n",
      "[CV] END bootstrap=True, max_depth=100, min_samples_leaf=3, min_samples_split=10, n_estimators=500; total time=19.6min\n",
      "[CV] END bootstrap=True, max_depth=100, min_samples_leaf=4, min_samples_split=10, n_estimators=200; total time= 7.9min\n",
      "[CV] END bootstrap=True, max_depth=80, min_samples_leaf=3, min_samples_split=8, n_estimators=100; total time= 4.2min\n",
      "[CV] END bootstrap=True, max_depth=80, min_samples_leaf=3, min_samples_split=10, n_estimators=100; total time= 4.1min\n",
      "[CV] END bootstrap=True, max_depth=80, min_samples_leaf=3, min_samples_split=10, n_estimators=200; total time= 7.7min\n",
      "[CV] END bootstrap=True, max_depth=80, min_samples_leaf=3, min_samples_split=10, n_estimators=500; total time=19.5min\n",
      "[CV] END bootstrap=True, max_depth=80, min_samples_leaf=4, min_samples_split=10, n_estimators=500; total time=19.4min\n",
      "[CV] END bootstrap=True, max_depth=90, min_samples_leaf=3, min_samples_split=10, n_estimators=500; total time=19.8min\n",
      "[CV] END bootstrap=True, max_depth=90, min_samples_leaf=4, min_samples_split=10, n_estimators=100; total time= 3.9min\n",
      "[CV] END bootstrap=True, max_depth=90, min_samples_leaf=4, min_samples_split=10, n_estimators=500; total time=19.5min\n",
      "[CV] END bootstrap=True, max_depth=100, min_samples_leaf=3, min_samples_split=10, n_estimators=100; total time= 3.9min\n",
      "[CV] END bootstrap=True, max_depth=100, min_samples_leaf=3, min_samples_split=10, n_estimators=500; total time=19.7min\n",
      "[CV] END bootstrap=True, max_depth=100, min_samples_leaf=4, min_samples_split=10, n_estimators=100; total time= 3.9min\n",
      "[CV] END bootstrap=True, max_depth=100, min_samples_leaf=4, min_samples_split=10, n_estimators=200; total time= 8.0min\n",
      "[CV] END bootstrap=True, max_depth=80, min_samples_leaf=3, min_samples_split=8, n_estimators=100; total time= 4.2min\n",
      "[CV] END bootstrap=True, max_depth=80, min_samples_leaf=3, min_samples_split=10, n_estimators=100; total time= 4.1min\n",
      "[CV] END bootstrap=True, max_depth=80, min_samples_leaf=3, min_samples_split=10, n_estimators=200; total time= 7.7min\n",
      "[CV] END bootstrap=True, max_depth=80, min_samples_leaf=4, min_samples_split=8, n_estimators=100; total time= 3.8min\n",
      "[CV] END bootstrap=True, max_depth=80, min_samples_leaf=4, min_samples_split=8, n_estimators=200; total time= 7.5min\n",
      "[CV] END bootstrap=True, max_depth=80, min_samples_leaf=4, min_samples_split=8, n_estimators=500; total time=19.5min\n",
      "[CV] END bootstrap=True, max_depth=90, min_samples_leaf=3, min_samples_split=8, n_estimators=500; total time=19.5min\n",
      "[CV] END bootstrap=True, max_depth=90, min_samples_leaf=4, min_samples_split=8, n_estimators=200; total time= 7.9min\n",
      "[CV] END bootstrap=True, max_depth=90, min_samples_leaf=4, min_samples_split=10, n_estimators=100; total time= 3.9min\n",
      "[CV] END bootstrap=True, max_depth=90, min_samples_leaf=4, min_samples_split=10, n_estimators=200; total time= 7.8min\n",
      "[CV] END bootstrap=True, max_depth=100, min_samples_leaf=3, min_samples_split=8, n_estimators=100; total time= 3.9min\n",
      "[CV] END bootstrap=True, max_depth=100, min_samples_leaf=3, min_samples_split=8, n_estimators=200; total time= 7.8min\n",
      "[CV] END bootstrap=True, max_depth=100, min_samples_leaf=3, min_samples_split=8, n_estimators=500; total time=19.5min\n",
      "[CV] END bootstrap=True, max_depth=100, min_samples_leaf=4, min_samples_split=8, n_estimators=500; total time=19.1min\n",
      "[CV] END bootstrap=True, max_depth=80, min_samples_leaf=3, min_samples_split=8, n_estimators=200; total time= 8.3min\n",
      "[CV] END bootstrap=True, max_depth=80, min_samples_leaf=3, min_samples_split=10, n_estimators=200; total time= 7.7min\n",
      "[CV] END bootstrap=True, max_depth=80, min_samples_leaf=4, min_samples_split=8, n_estimators=100; total time= 3.8min\n",
      "[CV] END bootstrap=True, max_depth=80, min_samples_leaf=4, min_samples_split=8, n_estimators=200; total time= 7.6min\n",
      "[CV] END bootstrap=True, max_depth=80, min_samples_leaf=4, min_samples_split=10, n_estimators=100; total time= 3.8min\n",
      "[CV] END bootstrap=True, max_depth=80, min_samples_leaf=4, min_samples_split=10, n_estimators=200; total time= 7.7min\n",
      "[CV] END bootstrap=True, max_depth=90, min_samples_leaf=3, min_samples_split=8, n_estimators=100; total time= 3.8min\n",
      "[CV] END bootstrap=True, max_depth=90, min_samples_leaf=3, min_samples_split=8, n_estimators=200; total time= 7.8min\n",
      "[CV] END bootstrap=True, max_depth=90, min_samples_leaf=3, min_samples_split=8, n_estimators=500; total time=19.9min\n",
      "[CV] END bootstrap=True, max_depth=90, min_samples_leaf=4, min_samples_split=8, n_estimators=500; total time=19.2min\n",
      "[CV] END bootstrap=True, max_depth=100, min_samples_leaf=3, min_samples_split=8, n_estimators=100; total time= 4.0min\n",
      "[CV] END bootstrap=True, max_depth=100, min_samples_leaf=3, min_samples_split=8, n_estimators=500; total time=19.5min\n",
      "[CV] END bootstrap=True, max_depth=100, min_samples_leaf=4, min_samples_split=8, n_estimators=100; total time= 3.9min\n",
      "[CV] END bootstrap=True, max_depth=100, min_samples_leaf=4, min_samples_split=8, n_estimators=500; total time=19.2min\n",
      "[CV] END bootstrap=True, max_depth=80, min_samples_leaf=3, min_samples_split=8, n_estimators=500; total time=19.8min\n",
      "[CV] END bootstrap=True, max_depth=80, min_samples_leaf=4, min_samples_split=8, n_estimators=100; total time= 3.8min\n",
      "[CV] END bootstrap=True, max_depth=80, min_samples_leaf=4, min_samples_split=8, n_estimators=500; total time=19.1min\n",
      "[CV] END bootstrap=True, max_depth=90, min_samples_leaf=3, min_samples_split=8, n_estimators=100; total time= 3.9min\n",
      "[CV] END bootstrap=True, max_depth=90, min_samples_leaf=3, min_samples_split=8, n_estimators=500; total time=19.6min\n",
      "[CV] END bootstrap=True, max_depth=90, min_samples_leaf=4, min_samples_split=8, n_estimators=100; total time= 4.1min\n",
      "[CV] END bootstrap=True, max_depth=90, min_samples_leaf=4, min_samples_split=8, n_estimators=500; total time=19.4min\n",
      "[CV] END bootstrap=True, max_depth=100, min_samples_leaf=3, min_samples_split=8, n_estimators=200; total time= 7.9min\n",
      "[CV] END bootstrap=True, max_depth=100, min_samples_leaf=3, min_samples_split=10, n_estimators=100; total time= 3.9min\n",
      "[CV] END bootstrap=True, max_depth=100, min_samples_leaf=3, min_samples_split=10, n_estimators=200; total time= 7.8min\n",
      "[CV] END bootstrap=True, max_depth=100, min_samples_leaf=4, min_samples_split=8, n_estimators=100; total time= 3.9min\n",
      "[CV] END bootstrap=True, max_depth=100, min_samples_leaf=4, min_samples_split=8, n_estimators=200; total time= 7.9min\n",
      "[CV] END bootstrap=True, max_depth=100, min_samples_leaf=4, min_samples_split=8, n_estimators=500; total time=17.6min\n",
      "[CV] END bootstrap=True, max_depth=80, min_samples_leaf=3, min_samples_split=8, n_estimators=200; total time= 8.4min\n",
      "[CV] END bootstrap=True, max_depth=80, min_samples_leaf=3, min_samples_split=10, n_estimators=500; total time=19.2min\n",
      "[CV] END bootstrap=True, max_depth=80, min_samples_leaf=4, min_samples_split=10, n_estimators=100; total time= 3.9min\n",
      "[CV] END bootstrap=True, max_depth=80, min_samples_leaf=4, min_samples_split=10, n_estimators=200; total time= 7.8min\n",
      "[CV] END bootstrap=True, max_depth=90, min_samples_leaf=3, min_samples_split=8, n_estimators=100; total time= 3.9min\n",
      "[CV] END bootstrap=True, max_depth=90, min_samples_leaf=3, min_samples_split=8, n_estimators=200; total time= 7.9min\n",
      "[CV] END bootstrap=True, max_depth=90, min_samples_leaf=3, min_samples_split=10, n_estimators=100; total time= 3.9min\n",
      "[CV] END bootstrap=True, max_depth=90, min_samples_leaf=3, min_samples_split=10, n_estimators=200; total time= 7.8min\n",
      "[CV] END bootstrap=True, max_depth=90, min_samples_leaf=4, min_samples_split=8, n_estimators=100; total time= 4.0min\n",
      "[CV] END bootstrap=True, max_depth=90, min_samples_leaf=4, min_samples_split=8, n_estimators=200; total time= 7.9min\n",
      "[CV] END bootstrap=True, max_depth=90, min_samples_leaf=4, min_samples_split=10, n_estimators=100; total time= 3.8min\n",
      "[CV] END bootstrap=True, max_depth=90, min_samples_leaf=4, min_samples_split=10, n_estimators=200; total time= 7.8min\n",
      "[CV] END bootstrap=True, max_depth=100, min_samples_leaf=3, min_samples_split=8, n_estimators=100; total time= 3.9min\n",
      "[CV] END bootstrap=True, max_depth=100, min_samples_leaf=3, min_samples_split=8, n_estimators=200; total time= 7.9min\n",
      "[CV] END bootstrap=True, max_depth=100, min_samples_leaf=3, min_samples_split=10, n_estimators=100; total time= 3.9min\n",
      "[CV] END bootstrap=True, max_depth=100, min_samples_leaf=3, min_samples_split=10, n_estimators=200; total time= 7.9min\n",
      "[CV] END bootstrap=True, max_depth=100, min_samples_leaf=4, min_samples_split=8, n_estimators=100; total time= 3.9min\n",
      "[CV] END bootstrap=True, max_depth=100, min_samples_leaf=4, min_samples_split=8, n_estimators=200; total time= 8.0min\n",
      "[CV] END bootstrap=True, max_depth=100, min_samples_leaf=4, min_samples_split=10, n_estimators=100; total time= 4.0min\n",
      "[CV] END bootstrap=True, max_depth=100, min_samples_leaf=4, min_samples_split=10, n_estimators=500; total time=15.7min\n"
     ]
    },
    {
     "name": "stdout",
     "output_type": "stream",
     "text": [
      "[CV] END bootstrap=True, max_depth=80, min_samples_leaf=3, min_samples_split=8, n_estimators=100; total time= 4.2min\n",
      "[CV] END bootstrap=True, max_depth=80, min_samples_leaf=3, min_samples_split=8, n_estimators=500; total time=19.6min\n",
      "[CV] END bootstrap=True, max_depth=80, min_samples_leaf=4, min_samples_split=8, n_estimators=500; total time=19.1min\n",
      "[CV] END bootstrap=True, max_depth=90, min_samples_leaf=3, min_samples_split=8, n_estimators=200; total time= 7.7min\n",
      "[CV] END bootstrap=True, max_depth=90, min_samples_leaf=3, min_samples_split=10, n_estimators=100; total time= 3.9min\n",
      "[CV] END bootstrap=True, max_depth=90, min_samples_leaf=3, min_samples_split=10, n_estimators=200; total time= 7.8min\n",
      "[CV] END bootstrap=True, max_depth=90, min_samples_leaf=3, min_samples_split=10, n_estimators=500; total time=19.9min\n",
      "[CV] END bootstrap=True, max_depth=90, min_samples_leaf=4, min_samples_split=10, n_estimators=500; total time=19.4min\n",
      "[CV] END bootstrap=True, max_depth=100, min_samples_leaf=3, min_samples_split=10, n_estimators=200; total time= 7.8min\n",
      "[CV] END bootstrap=True, max_depth=100, min_samples_leaf=3, min_samples_split=10, n_estimators=500; total time=19.8min\n",
      "[CV] END bootstrap=True, max_depth=100, min_samples_leaf=4, min_samples_split=10, n_estimators=500; total time=14.1min\n",
      "[CV] END bootstrap=True, max_depth=80, min_samples_leaf=3, min_samples_split=8, n_estimators=500; total time=20.0min\n",
      "[CV] END bootstrap=True, max_depth=80, min_samples_leaf=4, min_samples_split=8, n_estimators=200; total time= 7.7min\n",
      "[CV] END bootstrap=True, max_depth=80, min_samples_leaf=4, min_samples_split=10, n_estimators=100; total time= 3.9min\n",
      "[CV] END bootstrap=True, max_depth=80, min_samples_leaf=4, min_samples_split=10, n_estimators=500; total time=19.3min\n",
      "[CV] END bootstrap=True, max_depth=90, min_samples_leaf=3, min_samples_split=10, n_estimators=100; total time= 3.9min\n",
      "[CV] END bootstrap=True, max_depth=90, min_samples_leaf=3, min_samples_split=10, n_estimators=200; total time= 7.7min\n",
      "[CV] END bootstrap=True, max_depth=90, min_samples_leaf=4, min_samples_split=8, n_estimators=100; total time= 4.0min\n",
      "[CV] END bootstrap=True, max_depth=90, min_samples_leaf=4, min_samples_split=8, n_estimators=200; total time= 7.8min\n",
      "[CV] END bootstrap=True, max_depth=90, min_samples_leaf=4, min_samples_split=8, n_estimators=500; total time=19.7min\n",
      "[CV] END bootstrap=True, max_depth=100, min_samples_leaf=3, min_samples_split=8, n_estimators=500; total time=19.5min\n",
      "[CV] END bootstrap=True, max_depth=100, min_samples_leaf=4, min_samples_split=8, n_estimators=200; total time= 7.9min\n",
      "[CV] END bootstrap=True, max_depth=100, min_samples_leaf=4, min_samples_split=10, n_estimators=100; total time= 3.9min\n",
      "[CV] END bootstrap=True, max_depth=100, min_samples_leaf=4, min_samples_split=10, n_estimators=200; total time= 7.8min\n",
      "[CV] END bootstrap=True, max_depth=100, min_samples_leaf=4, min_samples_split=10, n_estimators=500; total time=12.7min\n",
      "Best hyperparameters: {'bootstrap': True, 'max_depth': 90, 'min_samples_leaf': 3, 'min_samples_split': 8, 'n_estimators': 200}\n"
     ]
    }
   ],
   "source": [
    "# Fit the grid search to the data\n",
    "grid_search.fit(x_train, y_train)\n",
    "# Print the best hyperparameters\n",
    "print('Best hyperparameters:',  grid_search.best_params_)"
   ]
  },
  {
   "cell_type": "code",
   "execution_count": 24,
   "metadata": {},
   "outputs": [],
   "source": [
    "best_grid = grid_search.best_estimator_"
   ]
  },
  {
   "cell_type": "code",
   "execution_count": 25,
   "metadata": {},
   "outputs": [
    {
     "name": "stdout",
     "output_type": "stream",
     "text": [
      "Test Set F1 Score of the Best Model: 0.9992240780822478\n"
     ]
    }
   ],
   "source": [
    "y_pred = best_grid.predict(x_test)\n",
    "\n",
    "test_f1_score = f1_score(y_test, y_pred)\n",
    "\n",
    "print(\"Test Set F1 Score of the Best Model:\", test_f1_score)"
   ]
  },
  {
   "cell_type": "code",
   "execution_count": 29,
   "metadata": {},
   "outputs": [
    {
     "data": {
      "text/plain": [
       "<sklearn.metrics._plot.confusion_matrix.ConfusionMatrixDisplay at 0x7f9f6e56fca0>"
      ]
     },
     "execution_count": 29,
     "metadata": {},
     "output_type": "execute_result"
    },
    {
     "data": {
      "image/png": "[encoded data removed]",
      "text/plain": [
       "<Figure size 640x480 with 2 Axes>"
      ]
     },
     "metadata": {},
     "output_type": "display_data"
    }
   ],
   "source": [
    "# Create the confusion matrix\n",
    "cm = confusion_matrix(y_test, y_pred)\n",
    "\n",
    "ConfusionMatrixDisplay(confusion_matrix=cm).plot()"
   ]
  },
  {
   "cell_type": "code",
   "execution_count": 27,
   "metadata": {
    "_cell_guid": "2dd42ec1-80ce-46ae-8e1d-b502d87f4582",
    "_uuid": "71e77678-a981-4cbb-b141-75f0afce2e1d",
    "execution": {
     "iopub.execute_input": "2023-09-21T19:43:25.619027Z",
     "iopub.status.busy": "2023-09-21T19:43:25.618037Z",
     "iopub.status.idle": "2023-09-21T19:43:36.489525Z",
     "shell.execute_reply": "2023-09-21T19:43:36.487736Z",
     "shell.execute_reply.started": "2023-09-21T19:43:25.61898Z"
    },
    "jupyter": {
     "outputs_hidden": false
    }
   },
   "outputs": [
    {
     "name": "stdout",
     "output_type": "stream",
     "text": [
      "Accuracy:  99.92203483225765\n"
     ]
    }
   ],
   "source": [
    "accuracy = metrics.accuracy_score(y_test, y_pred)\n",
    "print(\"Accuracy: \", accuracy*100)"
   ]
  },
  {
   "cell_type": "code",
   "execution_count": null,
   "metadata": {},
   "outputs": [],
   "source": []
  }
 ],
 "metadata": {
  "kernelspec": {
   "display_name": "Python 3 (ipykernel)",
   "language": "python",
   "name": "python3"
  },
  "language_info": {
   "codemirror_mode": {
    "name": "ipython",
    "version": 3
   },
   "file_extension": ".py",
   "mimetype": "text/x-python",
   "name": "python",
   "nbconvert_exporter": "python",
   "pygments_lexer": "ipython3",
   "version": "3.10.9"
  }
 },
 "nbformat": 4,
 "nbformat_minor": 4
}
